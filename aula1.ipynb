{
 "cells": [
  {
   "cell_type": "markdown",
   "metadata": {
    "collapsed": false
   },
   "source": [
    "# Álgebra Linear II\n",
    "\n",
    "## Espaços Vetoriais\n",
    "\n",
    "Genericamente, elementos de um conjunto $E$, que podem ser \"somados\" e \"multiplicados\" por \"fatores de escala\" são chamados de *vetores*. Nesse contexto, o conjunto $E$ dos vetores será chamado *Espaço Vetorial*. Os fatores de escala são, intuitivamente, \"números\" (de alguma natureza fixa) que reescalam os vetores\":\n",
    "\n",
    "![somaproduto](images/sumproduct.gif)\n",
    "\n",
    "Esses conjuntos numéricos, chamados de *Corpos*, podem ter natureza variada, mas descreveremos algumas propriedades comuns a todos eles. Essas propriedades são convenientes ao desenvolvimento da parte\n",
    "mais básica da Álgebra Linear. Aliás, a *Álgebra Linear* é o estudo das propriedades dos Espaços Vetoriais e seus vetores."
   ]
  },
  {
   "cell_type": "markdown",
   "metadata": {
    "collapsed": false
   },
   "source": [
    "- Definição:\n",
    "\n",
    "   Um *corpo* é um conjunto $\\mathbb{K}$ munido de duas operações:\n",
    "   \n",
    "   -Adição:\n",
    "   \n",
    "   $+:\\mathbb{K}\\times\\mathbb{K}\\to\\mathbb{K}$ \n",
    "   \n",
    "   $(a,b)\\mapsto +(a,b)=a+b$\n",
    "   \n",
    "   -Multiplicação:\n",
    "   \n",
    "   $\\cdot:\\mathbb{K}\\times\\mathbb{K}\\to\\mathbb{K}$ \n",
    "   \n",
    "   $(a,b)\\mapsto \\cdot(a,b)=ab$\n",
    "   \n",
    "   Essas operações devem verificar as propriedades abaixo:\n",
    "   \n",
    "   \n",
    "   \n",
    "   \n",
    "   \n",
    " \n",
    "\n",
    "\n",
    "\n",
    "\n",
    "\n",
    "\n",
    "\n",
    "\n"
   ]
  },
  {
   "cell_type": "markdown",
   "metadata": {
    "collapsed": false
   },
   "source": [
    "1. ($(\\mathbb{K},+)$ é um grupo abeliano)\n",
    "   1. (\"Associatividade\") $a+(b+c)=(a+b)+c$\n",
    "   1. (\"Elemento Zero\") Existe $0\\in\\mathbb{K}$ tal que $a+0=0+a=a$.\n",
    "   1. (\"Elemento Oposto\") Para cada $a\\in\\mathbb{K}$, existe $-a$ com $a+(-a)=(-a)+a=0$.\n",
    "   1. (\"Comutatividade\") $a+b=b+a$.\n",
    "2. ($(\\mathbb{K},\\cdot)$ é quase um grupo!)\n",
    "   1. (\"Associatividade\") $a(bc)=(ab)c$\n",
    "   1. (\"Unidade\") Existe $1\\in\\mathbb{K}$ tal que $1a=a1=a$.\n",
    "   1. (\"Inversos\") Para cada $0\\neq a\\in\\mathbb{K}$, existe $a^{-1}$ com $aa^{-1}=a^{-1}a=1$.\n",
    "   1. (\"Comutatividade\") $ab=ba$\n",
    "3. (Relação entre as Operações: \"Distributividade\")\n",
    "   1. $a(b+c)=ab+ac$ \n",
    "   1. $(b+c)a=ba+ca$\n",
    "\n",
    "\n",
    "\n",
    "\n",
    "\n",
    "\n",
    "\n",
    "\n"
   ]
  },
  {
   "cell_type": "markdown",
   "metadata": {
    "collapsed": false
   },
   "source": [
    "Você já deve estar reconhecendo cada um desses axiomas, certo? Note que, assim, com as operações usuais (aquelas com que já estamos acostumados),\n",
    "$\\mathbb{Q}$, $\\mathbb{R}$ e $\\mathbb{C}$ são corpos.\n",
    "\n",
    "Note, também, que, ainda com as operações usuais, $\\mathbb{N}$ e $\\mathbb{Z}$ não são corpos. (Porquê?)\n",
    "\n",
    "\n",
    "\n",
    "\n",
    "\n"
   ]
  },
  {
   "cell_type": "code",
   "execution_count": 0,
   "metadata": {
    "collapsed": false
   },
   "outputs": [
   ],
   "source": [
   ]
  }
 ],
 "metadata": {
  "kernelspec": {
   "display_name": "R (system-wide)",
   "language": "r",
   "metadata": {
    "cocalc": {
     "description": "R statistical programming language",
     "priority": 10,
     "url": "https://www.r-project.org/"
    }
   },
   "name": "ir"
  },
  "language_info": {
   "codemirror_mode": "r",
   "file_extension": ".r",
   "mimetype": "text/x-r-source",
   "name": "R",
   "pygments_lexer": "r",
   "version": "4.0.2"
  }
 },
 "nbformat": 4,
 "nbformat_minor": 4
}