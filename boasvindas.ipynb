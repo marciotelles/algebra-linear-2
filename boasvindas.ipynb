{
 "cells": [
  {
   "cell_type": "markdown",
   "metadata": {
    "collapsed": false
   },
   "source": [
    "# Álgebra Linear II: Boas-Vindas\n",
    "\n",
    "## Sejam todos bem-vindos ao curso de Álgebra Linear 2! \n",
    "\n",
    "Nosso curso será remoto, e, assim, precisaremos fazer adaptações ao longo das aulas. Sugestões serão sempre bem-vindas!\n",
    "\n",
    "Faremos, sempre, encontros pelo Zoom, nos horários das aulas, com foco em tirar dúvidas e desenvolver algo que porventura não tenha sido compreendido das notas de aula. \n",
    "\n",
    "Ocasionalmente, utilizaremos o quadro-negro (vamos testar?).\n",
    "\n",
    "Haverá algumas listas de exercícios ao longo do texto, colocadas nos lugares mais convenientes ao desenvolvimento lógico do assunto.\n"
   ]
  },
  {
   "cell_type": "markdown",
   "metadata": {
    "collapsed": false
   },
   "source": [
    "Vamos utilizar estes Cadernos Jupyter como notas interativas das aulas, incluídas as listas.\n",
    "\n",
    "\n",
    "Note que, com eles, além do texto puro, podemos sugerir páginas na internet:\n",
    "[Espacos Vetorias na Wikipedia](https://pt.wikipedia.org/wiki/Espa%C3%A7o_vetorial)"
   ]
  },
  {
   "cell_type": "markdown",
   "metadata": {
    "collapsed": false
   },
   "source": [
    "Podemos, ainda, colocar imagens, como, por exemplo, a sugestão de bibliografia abaixo:\n",
    "\n",
    "![Boldrini](images/boldrini.jpg)\n"
   ]
  },
  {
   "cell_type": "markdown",
   "metadata": {
    "collapsed": false
   },
   "source": [
    "Ou, ainda, videos, como este abaixo:\n",
    "\n",
    "<figure class=\"video_container\">\n",
    "  <iframe src=\"https://www.youtube.com/embed/VfVgAXRtzjg\" frameborder=\"0\" allowfullscreen=\"true\"> </iframe>\n",
    "</figure>\n",
    "\n",
    "Aliás, recomendamos as atividades da [Khan Academy](https://pt.khanacademy.org/brasil?utm_account=AdWords&utm_campaignname=Paid_Brasil_Inst&gclid=CjwKCAjwkoz7BRBPEiwAeKw3q5iclnhg6KQcASPouGNsQWeUE9DaVPeZ45kFpCdmgLI8iTXGaeuddhoCiNMQAvD_BwE) em geral, como boas introduções, embora muito básicas, aos mais variados assuntos.\n",
    "\n",
    "Em nosso caso, assistir a alguns videos do [curso de Álgebra Linear](https://pt.khanacademy.org/math/linear-algebra) pode ser uma boa maneira de se ambientar. Iremos sugerindo\n",
    "videos e atividades ao longo do curso.\n",
    "\n",
    "**Observação:** Dúvidas eventuais poderão ser tiradas, por mim ou pelos outros colegas, através do grupo de Whatsapp que criaremos para o curso, no caso de todos concordarem com isso.\n"
   ]
  },
  {
   "cell_type": "code",
   "execution_count": 0,
   "metadata": {
    "collapsed": false
   },
   "outputs": [
   ],
   "source": [
   ]
  }
 ],
 "metadata": {
  "kernelspec": {
   "display_name": "R (system-wide)",
   "language": "r",
   "metadata": {
    "cocalc": {
     "description": "R statistical programming language",
     "priority": 10,
     "url": "https://www.r-project.org/"
    }
   },
   "name": "ir"
  },
  "language_info": {
   "codemirror_mode": "r",
   "file_extension": ".r",
   "mimetype": "text/x-r-source",
   "name": "R",
   "pygments_lexer": "r",
   "version": "4.0.2"
  }
 },
 "nbformat": 4,
 "nbformat_minor": 4
}